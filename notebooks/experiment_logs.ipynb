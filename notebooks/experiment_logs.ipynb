{
 "cells": [
  {
   "cell_type": "code",
   "execution_count": 1,
   "metadata": {},
   "outputs": [],
   "source": [
    "import os\n",
    "\n",
    "root_dir = \"../\"\n",
    "os.chdir(root_dir)"
   ]
  },
  {
   "cell_type": "code",
   "execution_count": 2,
   "metadata": {},
   "outputs": [],
   "source": [
    "import wandb\n",
    "from pprint import pprint\n",
    "\n",
    "import src.utils.evaluation as evaluation_utils\n",
    "from src.datamodules import ProteinOutputDataset, WMT14OutputDataset, RTPOutputDataset, RebelOutputDataset"
   ]
  },
  {
   "cell_type": "code",
   "execution_count": 3,
   "metadata": {},
   "outputs": [],
   "source": [
    "TASK = \"translation\"\n",
    "assert TASK in [\"toxicity\", \"cie\", \"solubility\", \"translation\"]\n",
    "\n",
    "# Select any run from the WandB project <Link>\n",
    "WANDB_RUN_PATH = \"epfl-dlab/understanding-decoding/1y6yme2k\""
   ]
  },
  {
   "cell_type": "code",
   "execution_count": 4,
   "metadata": {},
   "outputs": [
    {
     "name": "stdout",
     "output_type": "stream",
     "text": [
      "Run name: mt_beam_search\n",
      "Synchronizing with the data from WandB at: ../data/_temp/epfl-dlab/understanding-decoding/1y6yme2k\n"
     ]
    }
   ],
   "source": [
    "api = wandb.Api()\n",
    "run = api.run(WANDB_RUN_PATH)\n",
    "\n",
    "print(\"Run name:\", run.name)\n",
    "\n",
    "wapi = wandb.Api()\n",
    "exp_dir = run.config[\"exp_dir\"]\n",
    "if os.path.isdir(os.path.join(root_dir, exp_dir)):\n",
    "    exp_dir = os.path.join(root_dir, exp_dir)\n",
    "    print(f\"Data located at: {exp_dir}\")\n",
    "else:\n",
    "    exp_dir = evaluation_utils.get_temp_exp_dir(root_dir, WANDB_RUN_PATH)\n",
    "    evaluation_utils.restore_outputs_from_wandb(WANDB_RUN_PATH, exp_dir)\n",
    "    print(f\"Synchronizing with the data from WandB at: {exp_dir}\")\n",
    "results = evaluation_utils.read_results(exp_dir)\n",
    "\n",
    "if TASK == \"toxicity\":\n",
    "    output_dataset = RTPOutputDataset(exp_dir=exp_dir)\n",
    "elif TASK == \"cie\":\n",
    "    output_dataset = RebelOutputDataset(exp_dir=exp_dir)\n",
    "elif TASK == \"solubility\":\n",
    "    output_dataset = ProteinOutputDataset(exp_dir=exp_dir)\n",
    "elif TASK == \"translation\":\n",
    "    output_dataset = WMT14OutputDataset(exp_dir=exp_dir)"
   ]
  },
  {
   "cell_type": "code",
   "execution_count": 5,
   "metadata": {},
   "outputs": [
    {
     "name": "stdout",
     "output_type": "stream",
     "text": [
      "['id',\n",
      " 'input',\n",
      " 'input_ids',\n",
      " 'target',\n",
      " 'target_ids',\n",
      " 'prediction',\n",
      " 'prediction_ids',\n",
      " 'prediction_log_likelihood',\n",
      " 'prediction_log_likelihood_untampered',\n",
      " 'prediction_log_likelihood_force_corrected_untampered',\n",
      " 'target_log_likelihood',\n",
      " 'target_log_likelihood_untampered',\n",
      " 'target_log_likelihood_force_corrected_untampered']\n"
     ]
    }
   ],
   "source": [
    "pprint(list(output_dataset[0].keys()))"
   ]
  },
  {
   "attachments": {},
   "cell_type": "markdown",
   "metadata": {},
   "source": [
    "All of the output datasets share the same schema. Here is a list of the fields paired with a description:\n",
    "- `id`: A unique numeric identifier, starting from 0 for each dataset.\n",
    "- `input`: The input sequence / prompt for the data point.\n",
    "- `input_ids`: The tokenized input sequence.\n",
    "- `target`: The target sequence. (Optional, as some of the tasks are not associated with a target) \n",
    "- `target_ids`: The tokenized target sequence. (Optional, as some of the tasks are not associated with a target)\n",
    "- `prediction`: The models output sequence.\n",
    "- `prediction_ids`: The models output sequence.\n",
    "- `*_log_likelihood_untampered`: The prediction (or target) log likelihood assigned to each token by the model.\n",
    "- `*_target_log_likelihood_force_corrected_untampered`: The prediction (or target) log likelihood assigned to each token by the model after some tokens have been forcefully generated.\n",
    "- `*_log_likelihood`: The score assigned to the prediction (or target) sequence at each step of the generation as they appear during decoding (after the log likelihoods are processed by the selected LogitsProcessors)."
   ]
  }
 ],
 "metadata": {
  "kernelspec": {
   "display_name": "mlr",
   "language": "python",
   "name": "myenv"
  },
  "language_info": {
   "codemirror_mode": {
    "name": "ipython",
    "version": 3
   },
   "file_extension": ".py",
   "mimetype": "text/x-python",
   "name": "python",
   "nbconvert_exporter": "python",
   "pygments_lexer": "ipython3",
   "version": "3.9.13"
  },
  "orig_nbformat": 4
 },
 "nbformat": 4,
 "nbformat_minor": 2
}
